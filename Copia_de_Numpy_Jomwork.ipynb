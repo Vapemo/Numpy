{
  "nbformat": 4,
  "nbformat_minor": 0,
  "metadata": {
    "colab": {
      "provenance": [],
      "include_colab_link": true
    },
    "kernelspec": {
      "name": "python3",
      "display_name": "Python 3"
    },
    "language_info": {
      "name": "python"
    }
  },
  "cells": [
    {
      "cell_type": "markdown",
      "metadata": {
        "id": "view-in-github",
        "colab_type": "text"
      },
      "source": [
        "<a href=\"https://colab.research.google.com/github/Vapemo/Numpy/blob/main/Copia_de_Numpy_Jomwork.ipynb\" target=\"_parent\"><img src=\"https://colab.research.google.com/assets/colab-badge.svg\" alt=\"Open In Colab\"/></a>"
      ]
    },
    {
      "cell_type": "markdown",
      "source": [
        "# **Tarea de Numpy**\n",
        "\n",
        "Este notebook es el de los ejercicios >:)"
      ],
      "metadata": {
        "id": "AnjfrYcx4MCI"
      }
    },
    {
      "cell_type": "code",
      "source": [
        "!pip install numpy\n",
        "import numpy as np\n",
        "\n",
        "# Probando si si jala el numpy\n",
        "my_arreglow = np.array([1, 2, 3, 4, 5])\n",
        "\n",
        "print(my_arreglow)\n",
        "print(np.mean(my_arreglow))\n"
      ],
      "metadata": {
        "colab": {
          "base_uri": "https://localhost:8080/"
        },
        "id": "qxKzpmVP8Lqs",
        "outputId": "33931c67-cfdd-489c-9aa1-e63f576d8aa1"
      },
      "execution_count": null,
      "outputs": [
        {
          "output_type": "stream",
          "name": "stdout",
          "text": [
            "Requirement already satisfied: numpy in /usr/local/lib/python3.11/dist-packages (2.0.2)\n",
            "[1 2 3 4 5]\n",
            "3.0\n"
          ]
        }
      ]
    },
    {
      "cell_type": "markdown",
      "source": [
        "## Ejercicios de refuerzo"
      ],
      "metadata": {
        "id": "5bZxvLcH4Twv"
      }
    },
    {
      "cell_type": "markdown",
      "source": [
        "### **Ejercicio 1 - Crear un array de ceros:**\n",
        "Crea un array de tamaño (3, 4) lleno de ceros."
      ],
      "metadata": {
        "id": "0DKnt0XJ4b0j"
      }
    },
    {
      "cell_type": "code",
      "execution_count": null,
      "metadata": {
        "id": "XpBz8hQx4LD7",
        "colab": {
          "base_uri": "https://localhost:8080/"
        },
        "outputId": "25174e59-bd67-428e-a175-ec3a5d450152"
      },
      "outputs": [
        {
          "output_type": "stream",
          "name": "stdout",
          "text": [
            "[[0. 0. 0. 0.]\n",
            " [0. 0. 0. 0.]\n",
            " [0. 0. 0. 0.]]\n"
          ]
        }
      ],
      "source": [
        "# Solución (:\n",
        "\n",
        "array_ceros=np.zeros((3,4))\n",
        "print(array_ceros)"
      ]
    },
    {
      "cell_type": "markdown",
      "source": [
        "### **Ejercicio 2-  Suma de elementos:**\n",
        "   Dado el array [1, 2, 3, 4, 5], calcula la suma de todos sus elementos usando NumPy."
      ],
      "metadata": {
        "id": "3LhYSK4M91vQ"
      }
    },
    {
      "cell_type": "code",
      "source": [
        "# Solucion :)\n",
        "array_1=np.array([1, 2, 3, 4,5])\n",
        "print(array_1)\n",
        "suma_array=np.sum(array_1)\n",
        "print(suma_array)"
      ],
      "metadata": {
        "id": "l0s1XSEL98xf",
        "colab": {
          "base_uri": "https://localhost:8080/"
        },
        "outputId": "e663c814-7b36-4386-9cf7-74b412ab986e"
      },
      "execution_count": null,
      "outputs": [
        {
          "output_type": "stream",
          "name": "stdout",
          "text": [
            "[1 2 3 4 5]\n",
            "15\n"
          ]
        }
      ]
    },
    {
      "cell_type": "markdown",
      "source": [
        "### **Ejercicio 3 - Encontrar el máximo y mínimo:**\n",
        "Dado el array [10, 20, 30, 40, 50], encuentra el valor máximo y mínimo."
      ],
      "metadata": {
        "id": "u1S6J4AI99Ae"
      }
    },
    {
      "cell_type": "code",
      "source": [],
      "metadata": {
        "id": "u5F_1QwjX6iX"
      },
      "execution_count": null,
      "outputs": []
    },
    {
      "cell_type": "code",
      "source": [
        "# Solución:)\n",
        "\n",
        "array=np.array([10, 20, 30, 40, 50])\n",
        "print(array)\n",
        "array = np.array([10, 20, 30, 40, 50])\n",
        "maximo=np.max(array)\n",
        "print(\"el valor máximo es:\",maximo)\n",
        "minimo=np.min(array)\n",
        "print(\"el valor mínimo es :\",minimo)\n"
      ],
      "metadata": {
        "id": "rU0mZk0h-A0R",
        "colab": {
          "base_uri": "https://localhost:8080/"
        },
        "outputId": "273cdede-2c5f-4654-c1f0-1b9151f57a14"
      },
      "execution_count": null,
      "outputs": [
        {
          "output_type": "stream",
          "name": "stdout",
          "text": [
            "[10 20 30 40 50]\n",
            "el valor máximo es: 50\n",
            "el valor mínimo es : 10\n"
          ]
        }
      ]
    },
    {
      "cell_type": "markdown",
      "source": [
        "### **Ejercicio 4 - Encontrar el máximo y mínimo:**\n",
        " Dado el array [10, 20, 30, 40, 50], encuentra el valor máximo y mínimo.\n"
      ],
      "metadata": {
        "id": "lACW-PKX-BDd"
      }
    },
    {
      "cell_type": "markdown",
      "source": [],
      "metadata": {
        "id": "uVUMgMyTs_0u"
      }
    },
    {
      "cell_type": "code",
      "source": [
        "# Solución:)\n",
        "\n",
        "array=np.array([10, 20, 30, 40, 50])\n",
        "print(array)\n",
        "array = np.array([10, 20, 30, 40, 50])\n",
        "maximo=np.max(array)\n",
        "print(\"el valor máximo es:\",maximo)\n",
        "minimo=np.min(array)\n",
        "print(\"el valor mínimo es :\",minimo)\n",
        "\n"
      ],
      "metadata": {
        "id": "-qHvH7gJ-Ede",
        "colab": {
          "base_uri": "https://localhost:8080/"
        },
        "outputId": "0091f5b9-5775-4ee2-b86a-6f36f0ff7fd6"
      },
      "execution_count": null,
      "outputs": [
        {
          "output_type": "stream",
          "name": "stdout",
          "text": [
            "[10 20 30 40 50]\n",
            "el valor máximo es: 50\n",
            "el valor mínimo es : 10\n"
          ]
        }
      ]
    },
    {
      "cell_type": "markdown",
      "source": [
        "### **Ejercicio 5 - Generar números aleatorios:**\n",
        "  Genera un array de 5 números aleatorios entre 0 y 1."
      ],
      "metadata": {
        "id": "ZkPxM1Wt-EmM"
      }
    },
    {
      "cell_type": "code",
      "source": [
        "# Solución:)\n",
        "\n",
        "array_aleatorio=np.random.rand(5)\n",
        "print(array_aleatorio)\n"
      ],
      "metadata": {
        "id": "PBaN-yAp-Hu0",
        "colab": {
          "base_uri": "https://localhost:8080/"
        },
        "outputId": "974fcc84-c052-4d29-8972-86b582d5f2d3"
      },
      "execution_count": null,
      "outputs": [
        {
          "output_type": "stream",
          "name": "stdout",
          "text": [
            "[0.92439349 0.14340324 0.97165811 0.61914276 0.96960661]\n"
          ]
        }
      ]
    },
    {
      "cell_type": "markdown",
      "source": [
        "### **Ejercicio 6 - Promedio de un array:**\n",
        "Dado el array [5, 10, 15, 20, 25], calcula su promedio usando NumPy."
      ],
      "metadata": {
        "id": "MEDxAgWLAE8Q"
      }
    },
    {
      "cell_type": "code",
      "source": [
        "#Solucion:)\n",
        "array=np.array( [5, 10, 15, 20, 25])\n",
        "print(array)\n",
        "print(\"el promedio del array es:\",np.mean(array))"
      ],
      "metadata": {
        "id": "HjnjecKuAOkN",
        "colab": {
          "base_uri": "https://localhost:8080/"
        },
        "outputId": "72c9dbd9-fae4-4c9e-b45d-366346e870e3"
      },
      "execution_count": null,
      "outputs": [
        {
          "output_type": "stream",
          "name": "stdout",
          "text": [
            "[ 5 10 15 20 25]\n",
            "el promedio del array es: 15.0\n"
          ]
        }
      ]
    },
    {
      "cell_type": "markdown",
      "source": [
        "### **Ejercicio 7 - Concatenar dos arrays**\n",
        "Dados los arrays A = [1, 2, 3] y B = [4, 5, 6], concaténalos en un solo array."
      ],
      "metadata": {
        "id": "Z93kn0htAPZb"
      }
    },
    {
      "cell_type": "code",
      "source": [
        "#Solucion:\n",
        "A=np.array([1, 2, 3] )\n",
        "B=np.array( [4, 5, 6])\n",
        "print(A,B)\n",
        "concatenados=np.concatenate((A,B))\n",
        "print(concatenados)"
      ],
      "metadata": {
        "id": "NzldaS9RAS45",
        "colab": {
          "base_uri": "https://localhost:8080/"
        },
        "outputId": "4dc50fc2-49f6-4d23-b59a-ab635467d7e3"
      },
      "execution_count": null,
      "outputs": [
        {
          "output_type": "stream",
          "name": "stdout",
          "text": [
            "[1 2 3] [4 5 6]\n",
            "[1 2 3 4 5 6]\n"
          ]
        }
      ]
    },
    {
      "cell_type": "markdown",
      "source": [
        "### **Ejercicio 8 - Reshape de un Array**\n",
        "Dado el array [1, 2, 3, 4, 5, 6], cámbialo a una matriz de 2x3."
      ],
      "metadata": {
        "id": "bvTCzzFjAevg"
      }
    },
    {
      "cell_type": "code",
      "source": [
        "#Solución:)\n",
        "array=np.array([1, 2, 3, 4, 5, 6])\n",
        "print(array)\n",
        "\n",
        "arr_2x3 = array.reshape(2,3)\n",
        "print(\"Reshape a 2x3:\\n\", arr_2x3)"
      ],
      "metadata": {
        "id": "0hfE1QUMAhB3",
        "colab": {
          "base_uri": "https://localhost:8080/"
        },
        "outputId": "3b183a61-3d74-42aa-af47-8c455d8a1507"
      },
      "execution_count": null,
      "outputs": [
        {
          "output_type": "stream",
          "name": "stdout",
          "text": [
            "[1 2 3 4 5 6]\n",
            "Reshape a 2x3:\n",
            " [[1 2 3]\n",
            " [4 5 6]]\n"
          ]
        }
      ]
    },
    {
      "cell_type": "markdown",
      "source": [
        "### **Ejercicio 9 - Producto punto (dot product):**\n",
        "Dados dos arrays A = [1, 2, 3] y B = [4, 5, 6], calcula su producto punto"
      ],
      "metadata": {
        "id": "By9zMuMyYMNA"
      }
    },
    {
      "cell_type": "code",
      "source": [
        "#Solución:)\n",
        "A=np.array([1, 2, 3])\n",
        "B=np.array( [4, 5, 6])\n",
        "print(A,B)\n",
        "producto_punto=np.dot(A,B)\n",
        "print(\"El produccto punto es:\",producto_punto)"
      ],
      "metadata": {
        "id": "Vj-94PgAhpmk",
        "colab": {
          "base_uri": "https://localhost:8080/"
        },
        "outputId": "73dce78b-029e-468b-c11a-0bf6e320efae"
      },
      "execution_count": null,
      "outputs": [
        {
          "output_type": "stream",
          "name": "stdout",
          "text": [
            "[1 2 3] [4 5 6]\n",
            "El produccto punto es: 32\n"
          ]
        }
      ]
    },
    {
      "cell_type": "markdown",
      "source": [
        "### **Ejercicio 10 - Reorganizar un array:**\n",
        "Dado el array [1, 2, 3, 4, 5, 6, 7, 8, 9, 10], conviértelo en una matriz (2, 5)."
      ],
      "metadata": {
        "id": "Z0UxB4reh4LU"
      }
    },
    {
      "cell_type": "code",
      "source": [
        "#Solución:)\n",
        "array=np.array( [1, 2, 3, 4, 5, 6, 7, 8, 9, 10])\n",
        "print(array)\n",
        "arr_2x5=array.reshape(2,5)\n",
        "print(\"Reshape a 2x5:\\n\", arr_2x5)"
      ],
      "metadata": {
        "id": "GkjKd3SLh6Sf",
        "colab": {
          "base_uri": "https://localhost:8080/"
        },
        "outputId": "a7ade810-479d-4ae5-acf0-e1e25bccbf32"
      },
      "execution_count": null,
      "outputs": [
        {
          "output_type": "stream",
          "name": "stdout",
          "text": [
            "[ 1  2  3  4  5  6  7  8  9 10]\n",
            "Reshape a 2x5:\n",
            " [[ 1  2  3  4  5]\n",
            " [ 6  7  8  9 10]]\n"
          ]
        }
      ]
    },
    {
      "cell_type": "markdown",
      "source": [
        "### **Ejercicio extra - Encontrar el *k*-ésimo elemento más pequeño en un array**\n",
        "Dado arr = np.array([9, 3, 6, 2, 1, 7]), encuentra el 3er elemento más pequeño sin ordenar el array completo.\n",
        "\n",
        "**Pista solución 1**: Se puede hacer con un método de Numpy\n",
        "\n",
        "**Pista solución 2**: El código se hace más complicado, pero se puede resolver con ciclos iterativos."
      ],
      "metadata": {
        "id": "MpTGrPV5iE1Z"
      }
    },
    {
      "cell_type": "code",
      "source": [
        "#Solucion :o\n",
        "\n",
        "arr = np.array([9, 3, 6, 2, 1, 7])\n",
        "tercer_menor = np.partition(arr, 2)[2]\n",
        "\n",
        "print(\"El tercer elemento más pequeño es:\", tercer_menor)\n"
      ],
      "metadata": {
        "id": "OYaMOW-jiLlX",
        "colab": {
          "base_uri": "https://localhost:8080/"
        },
        "outputId": "90af9571-a75e-4bbf-ee08-ba2e415bf150"
      },
      "execution_count": null,
      "outputs": [
        {
          "output_type": "stream",
          "name": "stdout",
          "text": [
            "El tercer elemento más pequeño es: 3\n"
          ]
        }
      ]
    },
    {
      "cell_type": "markdown",
      "source": [
        "## **Ejercicios aplicados**"
      ],
      "metadata": {
        "id": "Unyrp8HOCtMh"
      }
    },
    {
      "cell_type": "markdown",
      "source": [
        "### **Ejercicio: Cálculo de ROI (Retorno de Inversión)**\n",
        "Dadas las inversiones ([1000, 1500, 2000]) y sus retornos ([1200, 1650, 1800]), calcula el ROI porcentual para cada caso.\n",
        "\n",
        "*(Fórmula: ROI = (retorno - inversión) / inversión * 100)*"
      ],
      "metadata": {
        "id": "K1CPCb12GeCz"
      }
    },
    {
      "cell_type": "code",
      "source": [
        "# Solucion del ROIROIROIROIORIORI\n",
        "\n",
        "inversion=np.array([1000, 1500, 2000])\n",
        "retorno=np.array ([1200, 1650, 1800])\n",
        "ROI = ((retorno - inversion) / inversion) * 100\n",
        "print(\"El ROI es:\", ROI)"
      ],
      "metadata": {
        "id": "6Eo-aN8bCwg1",
        "colab": {
          "base_uri": "https://localhost:8080/"
        },
        "outputId": "c302d2ed-ff67-4a67-c24a-c5be5c5c5885"
      },
      "execution_count": null,
      "outputs": [
        {
          "output_type": "stream",
          "name": "stdout",
          "text": [
            "El ROI es: [ 20.  10. -10.]\n"
          ]
        }
      ]
    },
    {
      "cell_type": "markdown",
      "source": [
        "### **Ejercicio: Normalización de Datos**\n",
        "Tienes un dataset de precios de productos (en USD): [250, 320, 150, 500, 210]. Normaliza los valores al rango [0, 1] para compararlos en una escala común.\n",
        "\n",
        "**Formulita de la normalización**: (x - min) / (max - min): Para una escala valores entre 0 y 1."
      ],
      "metadata": {
        "id": "3CfyZVv4GksC"
      }
    },
    {
      "cell_type": "code",
      "source": [
        "precios_producto=np.array( [250, 320, 150, 500, 210])\n",
        "minimo = np.min(precios_producto)\n",
        "maximo = np.max(precios_producto)\n",
        "\n",
        "precios_normalizados = (precios_producto - minimo) / (maximo - minimo)\n",
        "\n",
        "print(\"Precios normalizados:\", precios_normalizados)"
      ],
      "metadata": {
        "id": "afTic4_JGxAy",
        "colab": {
          "base_uri": "https://localhost:8080/"
        },
        "outputId": "814a1e38-c547-4e64-de79-756bf5c9f7fe"
      },
      "execution_count": null,
      "outputs": [
        {
          "output_type": "stream",
          "name": "stdout",
          "text": [
            "Precios normalizados: [0.28571429 0.48571429 0.         1.         0.17142857]\n"
          ]
        }
      ]
    },
    {
      "cell_type": "markdown",
      "source": [
        "### **Ejercicio: Filtrado de Datos**\n",
        "En un array de ventas diarias ([1200, 0, 750, 2400, 0, 1800]), reemplaza los ceros (días sin ventas) por el promedio de los días con ventas."
      ],
      "metadata": {
        "id": "Px7Pdn7xHBAR"
      }
    },
    {
      "cell_type": "code",
      "source": [
        "ventas_diarias=np.array([1200, 0, 750, 2400, 0, 1800])\n",
        "promedio_ventas=np.mean(ventas_diarias[ventas_diarias > 0])  #promedio de los que no son 0\n",
        "ventas_diarias[ventas_diarias==0]=promedio_ventas #busca los que son cero y les ponen el valor del promedio\n",
        "print(\"las ventas  actualizadas\",ventas_diarias)"
      ],
      "metadata": {
        "id": "rqwubxX-HFBX",
        "colab": {
          "base_uri": "https://localhost:8080/"
        },
        "outputId": "5545db0b-4510-4240-f149-b8c0acf6c918"
      },
      "execution_count": null,
      "outputs": [
        {
          "output_type": "stream",
          "name": "stdout",
          "text": [
            "las ventas  actualizadas [1200 1537  750 2400 1537 1800]\n"
          ]
        }
      ]
    },
    {
      "cell_type": "markdown",
      "source": [
        "### **Ejercicio - Análisis de Presión Arterial**\n",
        "Tenemos un dataset de mediciones de presión arterial sistólica (mmHg) de 10 pacientes:\n",
        "[120, 135, 140, 118, 150, 130, 160, 125, 142, 128].\n",
        "\n",
        "Calculen:\n",
        "- Media y desviación estándar.\n",
        "- Identifiquen valores fuera del rango normal (90–140 mmHg)."
      ],
      "metadata": {
        "id": "dKK2wBEEdqzt"
      }
    },
    {
      "cell_type": "code",
      "source": [
        "presion_arterial=np.array ([120, 135, 140, 118, 150, 130, 160, 125, 142, 128])\n",
        "media=presion_arterial.mean()\n",
        "print(\"la media es \",media)\n",
        "desviacion_estandar=presion_arterial.std()\n",
        "print(\"desviacion estandar es:\",desviacion_estandar)"
      ],
      "metadata": {
        "id": "RkYj4KJud0uu",
        "colab": {
          "base_uri": "https://localhost:8080/"
        },
        "outputId": "5f4bcf6e-9ce6-4931-a234-69a8187d933e"
      },
      "execution_count": null,
      "outputs": [
        {
          "output_type": "stream",
          "name": "stdout",
          "text": [
            "la media es  134.8\n",
            "desviacion estandar es: 12.69488085804668\n"
          ]
        }
      ]
    },
    {
      "cell_type": "markdown",
      "source": [
        "### **Ejercicio - Cálculo del PIB per Cápita**\n",
        "Dados el PIB (en millones de USD) [500, 320, 700, 450] y la población (en millones) [10, 8, 12, 9] de 4 países, calculen el PIB per cápita y determinen el país con el mayor valor."
      ],
      "metadata": {
        "id": "ltzE201veNyz"
      }
    },
    {
      "cell_type": "code",
      "source": [
        "PIB =np.array( [500, 320, 700, 450])\n",
        "poblacion=np.array([10, 8, 12, 9] )\n",
        "pib_per_capita = PIB / poblacion\n",
        "indice_mayor = np.argmax(pib_per_capita)\n",
        "\n",
        "print(\"PIB per cápita de cada país:\", pib_per_capita)\n",
        "print(f\"El país con mayor PIB per cápita es el país {indice_mayor + 1} con un valor de {pib_per_capita[indice_mayor]:.2f} millones USD por persona.\")#2f para los decimales"
      ],
      "metadata": {
        "id": "TMl-OWMpeOcP",
        "colab": {
          "base_uri": "https://localhost:8080/"
        },
        "outputId": "2383307a-cb19-4e63-c8d1-69fba8417cd0"
      },
      "execution_count": null,
      "outputs": [
        {
          "output_type": "stream",
          "name": "stdout",
          "text": [
            "PIB per cápita de cada país: [50.         40.         58.33333333 50.        ]\n",
            "El país con mayor PIB per cápita es el país 3 con un valor de 58.33 millones USD por persona.\n"
          ]
        }
      ]
    },
    {
      "cell_type": "markdown",
      "source": [
        "### **Ejercicio - Sistema de Drops (Probabilidades)**\n",
        "En un videojuego RPG, los enemigos al ser vencidos, pueden dropear (soltar):\n",
        "- 0 = Nada (50%).\n",
        "- 1 = Poción (30%).\n",
        "- 2 = Arma (15%).\n",
        "- 3 = Artefacto (5%).\n",
        "\n",
        "Simula 100 drops y cuenta cuántos artefactos se obtuvieron.\n",
        "\n",
        "*Ejemplo de salida*:\n",
        "\n",
        "```\n",
        "Artifactos obtenidos: 3\n",
        "```\n",
        "\n"
      ],
      "metadata": {
        "id": "7AP-dS9HgAO9"
      }
    },
    {
      "cell_type": "code",
      "source": [
        "valores = [0, 1, 2, 3]\n",
        "probabilidades = [0.5, 0.3, 0.15, 0.05]\n",
        "\n",
        "# simula 100 drops\n",
        "drops = np.random.choice(valores, size=100, p=probabilidades)\n",
        "\n",
        "# se cuenta cuántos artefactos  de valor 3  se obtuvieron\n",
        "artefactos = np.count_nonzero(drops == 3)\n",
        "\n",
        "print(\"Artefactos obtenidos:\", artefactos)"
      ],
      "metadata": {
        "id": "828OGOwUgPBV",
        "colab": {
          "base_uri": "https://localhost:8080/"
        },
        "outputId": "4b99c549-a320-4297-fd16-33ea20594dc7"
      },
      "execution_count": null,
      "outputs": [
        {
          "output_type": "stream",
          "name": "stdout",
          "text": [
            "Artefactos obtenidos: 7\n"
          ]
        }
      ]
    }
  ]
}